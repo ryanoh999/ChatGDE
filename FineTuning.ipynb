{
 "cells": [
  {
   "cell_type": "code",
   "execution_count": 224,
   "id": "d5e34857",
   "metadata": {},
   "outputs": [],
   "source": [
    "key = #insert key"
   ]
  },
  {
   "cell_type": "code",
   "execution_count": 216,
   "id": "62abe223",
   "metadata": {},
   "outputs": [],
   "source": [
    "import weave\n",
    "import json\n",
    "from openai import OpenAI\n",
    "import fitz\n",
    "import numpy as np\n",
    "from sklearn.metrics.pairwise import cosine_similarity\n",
    "import re\n",
    "from prompts3 import *\n",
    "import pandas as pd\n",
    "import wandb\n",
    "import random"
   ]
  },
  {
   "cell_type": "code",
   "execution_count": 218,
   "id": "4d6f426c",
   "metadata": {},
   "outputs": [],
   "source": [
    "def HumanRubric(rubric_file):\n",
    "    \"\"\"Create data frame of human scoring rubric given csv file of scored rubric. \n",
    "       Index represents question number\n",
    "\n",
    "    Arguments:\n",
    "        file - filepath name of human scored csv file\n",
    "    Returns:\n",
    "        human_rubric_df - df of human scored rubric  \n",
    "    \"\"\"\n",
    "    # Create cleaned DF of questions \n",
    "    human_rubric_df = pd.read_csv(rubric_file)\n",
    "    human_rubric_df = human_rubric_df.iloc[10:, 3:]\n",
    "    human_rubric_df = human_rubric_df.reset_index()\n",
    "    human_rubric_df = human_rubric_df.drop('index', axis=1)\n",
    "    human_rubric_df.columns = human_rubric_df.iloc[0]\n",
    "    human_rubric_df = human_rubric_df[1:]\n",
    "\n",
    "    return human_rubric_df"
   ]
  },
  {
   "cell_type": "markdown",
   "id": "6a36d499",
   "metadata": {},
   "source": [
    "# Construct Training and Validation Sets, Output as JSONL"
   ]
  },
  {
   "cell_type": "code",
   "execution_count": null,
   "id": "540b48bd",
   "metadata": {},
   "outputs": [],
   "source": [
    "import pandas as pd\n",
    "import json\n",
    "import random\n",
    "from math import ceil\n",
    "\n",
    "#rubric_files and prompts should be in list format\n",
    "def process_rubric_files(rubric_files, prompts, train_ratio=0.8):\n",
    "    # Function to create combined text list\n",
    "    def create_combined_list(rubric, prompts, no_test_set):\n",
    "        combined_list = []\n",
    "        for i, row in rubric.iterrows():\n",
    "            if i in no_test_set:\n",
    "                continue\n",
    "            if i < len(prompts):\n",
    "                combined_text = 'Section From GSP: ' + row['Relevant Text from GSP'] + ' Question: ' + prompts[i]\n",
    "                combined_list.append(combined_text)\n",
    "            else:\n",
    "                break\n",
    "        return combined_list\n",
    "\n",
    "    # Function to process human answers\n",
    "    def process_human_answers(human_answers, no_test_set):\n",
    "        human_answers = human_answers.drop(no_test_set, errors='ignore')\n",
    "        return ['No' if item == 'Somewhat' else item for item in human_answers]\n",
    "\n",
    "    # Function to create JSON objects\n",
    "    def create_json_objects(combined_list, human_answers, system_message):\n",
    "        json_objects = []\n",
    "        max_length = min(len(combined_list), len(human_answers))\n",
    "        for i in range(max_length):\n",
    "            json_object = {\n",
    "                \"messages\": [\n",
    "                    system_message,\n",
    "                    {\"role\": \"user\", \"content\": combined_list[i]},\n",
    "                    {\"role\": \"assistant\", \"content\": human_answers[i]}\n",
    "                ]\n",
    "            }\n",
    "            json_objects.append(json_object)\n",
    "        return json_objects\n",
    "\n",
    "    # Define the initial system message\n",
    "    system_message = {\n",
    "        \"role\": \"system\",\n",
    "        \"content\": \"You are a skeptical environmental scientist, tasked with answering questions about a section from a Groundwater Sustainability Plan (GSP) document. You are only allowed to give one word answers. Answer the questions objectively, adhering to the provided spectrums.\"\n",
    "    }\n",
    "\n",
    "    # Initialize lists for combined data\n",
    "    all_combined_list = []\n",
    "    all_human_answers = []\n",
    "    no_test = [2, 8, 9, 10, 11, 12, 13, 15, 16, 19, 20, 21, 23, 26, 27, 35, 38, 39, 69]\n",
    "    no_test_set = set(no_test)\n",
    "\n",
    "    # Process each rubric and combine the data\n",
    "    for rubric_file in rubric_files:\n",
    "        rubric = HumanRubric(rubric_file).dropna(subset=['Relevant Text from GSP'])\n",
    "        combined_list = create_combined_list(rubric, prompts, no_test_set)\n",
    "        human_answers = process_human_answers(rubric['Answer'], no_test_set)\n",
    "        all_combined_list.extend(combined_list)\n",
    "        all_human_answers.extend(human_answers)\n",
    "\n",
    "    # Combine combined_list and human_answers into a single DataFrame for easier manipulation\n",
    "    df = pd.DataFrame({\n",
    "        'combined_text': all_combined_list,\n",
    "        'human_answer': all_human_answers\n",
    "    })\n",
    "\n",
    "    # Separate \"Yes\" and \"No\" answers\n",
    "    yes_answers = df[df['human_answer'] == 'Yes']\n",
    "    no_answers = df[df['human_answer'] == 'No']\n",
    "\n",
    "    # Shuffle both dataframes\n",
    "    yes_answers = yes_answers.sample(frac=1).reset_index(drop=True)\n",
    "    no_answers = no_answers.sample(frac=1).reset_index(drop=True)\n",
    "\n",
    "    # Calculate number of entries for train and validation sets\n",
    "    total_entries = len(df)\n",
    "    train_size = ceil(train_ratio * total_entries)\n",
    "    val_size = total_entries - train_size\n",
    "\n",
    "    # Select equal number of \"Yes\" and \"No\" for the validation set\n",
    "    val_yes = yes_answers.iloc[:val_size//2]\n",
    "    val_no = no_answers.iloc[:val_size//2]\n",
    "\n",
    "    # Combine validation set\n",
    "    val_set = pd.concat([val_yes, val_no])\n",
    "\n",
    "    # Remaining \"Yes\" and \"No\" for the training set\n",
    "    train_yes = yes_answers.iloc[val_size//2:]\n",
    "    train_no = no_answers.iloc[val_size//2:]\n",
    "\n",
    "    # Combine training set\n",
    "    train_set = pd.concat([train_yes, train_no])\n",
    "\n",
    "    # If there are any remaining entries in df that were not selected in yes_answers and no_answers, add them to train_set\n",
    "    remaining_entries = df[~df.index.isin(train_set.index) & ~df.index.isin(val_set.index)]\n",
    "    train_set = pd.concat([train_set, remaining_entries])\n",
    "\n",
    "    # Adjust the size of the training set to ensure it contains the correct number of entries\n",
    "    train_set = train_set.sample(n=train_size, random_state=42).reset_index(drop=True)\n",
    "\n",
    "    # Ensure the training and validation sets have the correct number of entries\n",
    "    #assert len(train_set) == train_size, f\"Expected {train_size} entries in the training set, but found {len(train_set)}\"\n",
    "    #assert len(val_set) == val_size, f\"Expected {val_size} entries in the validation set, but found {len(val_set)}\"\n",
    "\n",
    "    # Create JSON objects for training and validation data\n",
    "    train_json_objects = create_json_objects(train_set['combined_text'].tolist(), train_set['human_answer'].tolist(), system_message)\n",
    "    val_json_objects = create_json_objects(val_set['combined_text'].tolist(), val_set['human_answer'].tolist(), system_message)\n",
    "\n",
    "    # Serialize and save the training data\n",
    "    train_json_output = json.dumps(train_json_objects, indent=4)\n",
    "    with open(\"gde_train.json\", \"w\") as file:\n",
    "        file.write(train_json_output)\n",
    "\n",
    "    # Serialize and save the validation data\n",
    "    val_json_output = json.dumps(val_json_objects, indent=4)\n",
    "    with open(\"gde_val.json\", \"w\") as file:\n",
    "        file.write(val_json_output)\n",
    "\n",
    "    # Convert training data to JSONL format\n",
    "    with open(\"gde_train.jsonl\", 'w') as file:\n",
    "        for entry in train_json_objects:\n",
    "            json_string = json.dumps(entry)\n",
    "            file.write(json_string + '\\n')\n",
    "\n",
    "    # Convert validation data to JSONL format\n",
    "    with open(\"gde_val.jsonl\", 'w') as file:\n",
    "        for entry in val_json_objects:\n",
    "            json_string = json.dumps(entry)\n",
    "            file.write(json_string + '\\n')\n",
    "\n",
    "    print(\"Processing complete!\")\n",
    "    print(f\"Training set size: {train_size} entries\")\n",
    "    print(f\"Validation set size: {val_size} entries\")\n"
   ]
  },
  {
   "cell_type": "code",
   "execution_count": null,
   "id": "9759cf21",
   "metadata": {},
   "outputs": [],
   "source": [
    "# Example usage\n",
    "rubric_files = [\n",
    "    'GSP_Drafts/Rubrics/11_Butte_DraftGSP_ScoringRubric - Coding.csv',\n",
    "    'GSP_Drafts/Rubrics/55_SantaMargarita_DraftGSP_ScoringRubric - Coding.csv',\n",
    "    'GSP_Drafts/Rubrics/15_Fillmore_DraftGSP_ScoringRubric - Coding.csv'\n",
    "]\n",
    "\n",
    "process_rubric_files(rubric_files, prompts)"
   ]
  },
  {
   "cell_type": "markdown",
   "id": "ede75b3c",
   "metadata": {},
   "source": [
    "# Create Fine-Tuning Model in Notebook"
   ]
  },
  {
   "cell_type": "code",
   "execution_count": null,
   "id": "7217872d",
   "metadata": {},
   "outputs": [],
   "source": [
    "def upload_json_l(json_l):\n",
    "    client = OpenAI(key)\n",
    "\n",
    "    client.files.create(\n",
    "      file=open(json_l, \"rb\"),\n",
    "      purpose=\"fine-tune\"\n",
    "    )"
   ]
  },
  {
   "cell_type": "code",
   "execution_count": 240,
   "id": "d1dfae58",
   "metadata": {},
   "outputs": [],
   "source": [
    "def fine_tune_model(api_key, training_file_id, validation_file_id, epochs, gpt_model, lr):\n",
    "    client = OpenAI(api_key=key)\n",
    "\n",
    "    # Create fine-tune job\n",
    "    client.fine_tuning.jobs.create(\n",
    "        training_file=training_file_id,\n",
    "        validation_file=validation_file_id,\n",
    "        model=gpt_model,  \n",
    "        hyperparameters={\n",
    "        \"n_epochs\":epochs,\n",
    "        \"learning_rate_multiplier\": lr   \n",
    "        }\n",
    "    )"
   ]
  },
  {
   "cell_type": "code",
   "execution_count": 242,
   "id": "888378b8",
   "metadata": {},
   "outputs": [],
   "source": [
    "fine_tune_model(key, 'file-4k66WxuYgkGfPNznottsAs5g', 'file-KDPqdSxKb60VW4IYzCdVSPJA', 7, 'gpt-3.5-turbo-0125', lr=.5)"
   ]
  },
  {
   "cell_type": "markdown",
   "id": "2f079681",
   "metadata": {},
   "source": [
    "# Testing"
   ]
  },
  {
   "cell_type": "code",
   "execution_count": 225,
   "id": "96268271",
   "metadata": {},
   "outputs": [],
   "source": [
    "def extract_text_from_pdf(pdf_path):\n",
    "    \"\"\"\n",
    "    Extracts text from a PDF file, preserving page breaks.\n",
    "\n",
    "    :param pdf_path: The path to the PDF file.\n",
    "    :return: A string containing the extracted text with page breaks.\n",
    "    \"\"\"\n",
    "    document = fitz.open(pdf_path)\n",
    "    text = []\n",
    "\n",
    "    for page_num in range(len(document)):\n",
    "        page = document.load_page(page_num)\n",
    "        text.append(page.get_text(\"text\"))\n",
    "    \n",
    "    # Join the text of each page with form feed characters to indicate page breaks\n",
    "    return '\\f'.join(text)\n",
    "\n",
    "def split_into_pages(text):\n",
    "    \"\"\"\n",
    "    Splits the text into pages.\n",
    "    \n",
    "    :param text: The complete text extracted from the PDF.\n",
    "    :return: A list of pages.\n",
    "    \"\"\"\n",
    "    pages = text.split('\\f')\n",
    "    return pages\n",
    "\n",
    "def get_embedding(text):\n",
    "    \"\"\"\n",
    "    Fetches the embedding for a given text using OpenAI's API.\n",
    "    \n",
    "    :param text: The text to get the embedding for.\n",
    "    :return: A vector representation of the text.\n",
    "    \"\"\"\n",
    "    client = OpenAI(api_key=key)\n",
    "    text = text.replace(\"\\n\", \" \")\n",
    "    return client.embeddings.create(input = [text], model=\"text-embedding-3-large\").data[0].embedding\n",
    "\n",
    "def get_embeddings(full_text):\n",
    "    \"\"\"\n",
    "    Splits the full text into pages and computes embeddings for each page.\n",
    "\n",
    "    :param full_text: The complete text extracted from the source.\n",
    "    :return: A list of text pages and their corresponding embeddings.\n",
    "    \"\"\"\n",
    "    pages = split_into_pages(full_text)\n",
    "    embeddings = []\n",
    "    for page in pages:\n",
    "        page_embedding = get_embedding(page)\n",
    "        embeddings.append(page_embedding)\n",
    "    return pages, embeddings\n",
    "\n",
    "def find_most_relevant_pages(pages, embeddings, question, top_n=10):\n",
    "    \"\"\"\n",
    "    Finds the most relevant text pages to a given question using pre-computed embeddings and cosine similarity.\n",
    "\n",
    "    :param pages: A list of text pages corresponding to the embeddings.\n",
    "    :param embeddings: A list of embeddings for each page of text.\n",
    "    :param question: The question for which to find the relevant pages.\n",
    "    :param top_n: The number of top relevant pages to return.\n",
    "    :return: The top N most relevant pages of the text.\n",
    "    \"\"\"\n",
    "    question_embedding = get_embedding(question) \n",
    "    scores = []\n",
    "\n",
    "    # Iterate over the embeddings and pages together\n",
    "    for page, page_embedding in zip(pages, embeddings):\n",
    "        score = cosine_similarity([question_embedding], [page_embedding])[0][0]\n",
    "        scores.append((score, page))\n",
    "        \n",
    "    # Sort the pages by score in descending order\n",
    "    scores.sort(reverse=True, key=lambda x: x[0])\n",
    "    \n",
    "    # Get the top N pages\n",
    "    most_relevant_pages = [page for score, page in scores[:top_n]]\n",
    "    \n",
    "    # Combine the most relevant pages into a continuous string\n",
    "    continuous_text = '\\n'.join(most_relevant_pages)\n",
    "    \n",
    "    return continuous_text"
   ]
  },
  {
   "cell_type": "code",
   "execution_count": 227,
   "id": "92a28f4d",
   "metadata": {},
   "outputs": [],
   "source": [
    "def compare_lists(list1, list2):\n",
    "    differences = []\n",
    "    if len(list1) != len(list2):\n",
    "        return None, \"Lists are of different lengths and cannot be compared index by index.\"\n",
    "    for i in range(len(list1)):\n",
    "        if list1[i] != list2[i]:\n",
    "            differences.append(i)\n",
    "    return differences"
   ]
  },
  {
   "cell_type": "code",
   "execution_count": null,
   "id": "d0a58995",
   "metadata": {},
   "outputs": [],
   "source": [
    "pdf = extract_text_from_pdf('GSP_Drafts/1_BigValley.pdf')\n",
    "bv_pages, bv_embeddings = get_embeddings(pdf)"
   ]
  },
  {
   "cell_type": "code",
   "execution_count": null,
   "id": "452dbbf3",
   "metadata": {},
   "outputs": [],
   "source": [
    "pdf = extract_text_from_pdf('GSP_Drafts/14_ECC.pdf')\n",
    "ecc_pages, ecc_embeddings = get_embeddings(pdf)"
   ]
  },
  {
   "cell_type": "code",
   "execution_count": null,
   "id": "730d61c2",
   "metadata": {},
   "outputs": [],
   "source": [
    "pdf = extract_text_from_pdf('GSP_Drafts/15_Fillmore.pdf')\n",
    "fillmore_pages, fillmore_embeddings = get_embeddings(pdf)"
   ]
  },
  {
   "cell_type": "code",
   "execution_count": null,
   "id": "7311fc2d",
   "metadata": {},
   "outputs": [],
   "source": [
    "pdf = extract_text_from_pdf('GSP_Drafts/30_Sonoma.pdf')\n",
    "sonoma_pages, sonoma_embeddings = get_embeddings(pdf)"
   ]
  },
  {
   "cell_type": "code",
   "execution_count": null,
   "id": "32a0e1ff",
   "metadata": {},
   "outputs": [],
   "source": [
    "pdf = extract_text_from_pdf('GSP_Drafts/46_Modesto.pdf')\n",
    "modesto_pages, modesto_embeddings = get_embeddings(pdf)"
   ]
  },
  {
   "cell_type": "code",
   "execution_count": 228,
   "id": "099c480e",
   "metadata": {},
   "outputs": [],
   "source": [
    "pdf = extract_text_from_pdf('GSP_Drafts/50_SLO.pdf')\n",
    "slo_pages, slo_embeddings = get_embeddings(pdf)"
   ]
  },
  {
   "cell_type": "code",
   "execution_count": 229,
   "id": "5866394c",
   "metadata": {},
   "outputs": [],
   "source": [
    "def ChatGDE(pages, embeddings, prompts, rubric_file, no_test, gde_answer_function):\n",
    "    answers = []\n",
    "    \n",
    "    # Generate answers based on pages and embeddings\n",
    "    for i in range(1, 71):\n",
    "        if i not in no_test:\n",
    "            section = find_most_relevant_pages(pages, embeddings, prompts[i-1])\n",
    "            section_and_question = section + prompts[i-1]\n",
    "            answers.append(gde_answer_function(section_and_question))\n",
    "    \n",
    "    # Load rubric and process chat answers\n",
    "    rubric = HumanRubric(rubric_file)\n",
    "    chat_answers = rubric['Answer']\n",
    "    chat_answers = chat_answers.drop(no_test, errors='ignore')\n",
    "    chat_answers = ['No' if item == 'Somewhat' else item for item in chat_answers]\n",
    "    chat_answers = ['NotApplicable' if item == 'Not Applicable' else item for item in chat_answers]\n",
    "    \n",
    "    # Compare lists and print differences\n",
    "    differences = compare_lists(answers, chat_answers)\n",
    "    if differences:\n",
    "        print(\"Differences at indices:\", differences)\n",
    "    else:\n",
    "        print(\"No differences. Lists are identical.\")\n",
    "\n",
    "    # Print count of differences\n",
    "    print(f\"Number of differences: {len(differences)}\")"
   ]
  },
  {
   "cell_type": "markdown",
   "id": "da36c78c",
   "metadata": {},
   "source": [
    "# Tests That I Tried Out"
   ]
  },
  {
   "cell_type": "code",
   "execution_count": 230,
   "id": "22343184",
   "metadata": {},
   "outputs": [],
   "source": [
    "no_test = [8, 9, 10, 11, 12, 13, 15, 16, 19, 20, 21, 23, 26, 27, 38, 39, 69]"
   ]
  },
  {
   "cell_type": "code",
   "execution_count": null,
   "id": "0042399b",
   "metadata": {},
   "outputs": [],
   "source": [
    "def gde_answer(section_and_question: str) -> dict:\n",
    "    client = OpenAI(api_key=key)\n",
    "\n",
    "    response = client.chat.completions.create(\n",
    "    model=\"ft:gpt-3.5-turbo-0125:personal:balanced-lr-1:9JPxtozx\",\n",
    "    messages=[\n",
    "        {\n",
    "            \"role\": \"system\",\n",
    "            \"content\": \"You are a skeptical environmental scientist, tasked with answering questions\\\n",
    "            about a section from a Groundwater Sustainability Plan (GSP) document. You are only allowed to give one\\\n",
    "            word answers. Answer the questions objectively, adhering to the provided spectrums.\"\n",
    "        },\n",
    "        {\n",
    "            \"role\": \"user\",\n",
    "            \"content\": section_and_question\n",
    "        }\n",
    "        ],\n",
    "        temperature=0.7,\n",
    "        #response_format={ \"type\": \"json_object\" }\n",
    "    )\n",
    "    extracted = response.choices[0].message.content\n",
    "    #return json.loads(extracted)\n",
    "    return extracted\n",
    "\n",
    "#weave.init('intro-example') # 🐝"
   ]
  },
  {
   "cell_type": "code",
   "execution_count": 231,
   "id": "75e89f72",
   "metadata": {},
   "outputs": [
    {
     "name": "stdout",
     "output_type": "stream",
     "text": [
      "Differences at indices: [0, 1, 3, 9, 13, 14, 21, 24, 25, 26, 38, 40, 46, 47, 48, 49, 52]\n",
      "Number of differences: 17\n"
     ]
    }
   ],
   "source": [
    "ChatGDE(slo_pages, slo_embeddings, prompts, \n",
    "        'GSP_Drafts/Rubrics/50_SanLuisObispoValley_DraftGSP_ScoringRubric - Coding.csv', no_test, gde_answer)"
   ]
  },
  {
   "cell_type": "markdown",
   "id": "f37155f1",
   "metadata": {},
   "source": [
    "#### Fillmore Test"
   ]
  },
  {
   "cell_type": "code",
   "execution_count": 39,
   "id": "f7cd9db8",
   "metadata": {},
   "outputs": [],
   "source": [
    "fillmore_answers = []\n",
    "for i in range(1,71):\n",
    "    if i not in no_test:\n",
    "        section = find_most_relevant_pages(fillmore_pages, fillmore_embeddings, prompts[i-1])\n",
    "        section_and_question = section + prompts[i-1]\n",
    "        fillmore_answers.append(gde_answer(section_and_question))"
   ]
  },
  {
   "cell_type": "code",
   "execution_count": null,
   "id": "256360df",
   "metadata": {},
   "outputs": [],
   "source": [
    "rubric = HumanRubric('GSP_Drafts/Rubrics/15_Fillmore_DraftGSP_ScoringRubric - Coding.csv')\n",
    "fillmore_chat_answers = rubric['Answer']\n",
    "fillmore_chat_answers = fillmore_chat_answers.drop(no_test, errors='ignore')\n",
    "fillmore_chat_answers = ['No' if item == 'Somewhat' else item for item in fillmore_chat_answers]\n",
    "fillmore_chat_answers = ['NotApplicable' if item == 'Not Applicable' else item for item in fillmore_chat_answers]"
   ]
  },
  {
   "cell_type": "code",
   "execution_count": 40,
   "id": "8a0f13c7",
   "metadata": {},
   "outputs": [
    {
     "name": "stdout",
     "output_type": "stream",
     "text": [
      "Differences at indices: [1, 2, 3, 4, 9, 10, 11, 12, 13, 14, 20, 23, 25, 38, 39, 40, 46, 47, 52]\n"
     ]
    }
   ],
   "source": [
    "differences = compare_lists(fillmore_answers, fillmore_chat_answers)\n",
    "if differences:\n",
    "    print(\"Differences at indices:\", differences)\n",
    "else:\n",
    "    print(\"No differences. Lists are identical.\")"
   ]
  },
  {
   "cell_type": "markdown",
   "id": "3b22c670",
   "metadata": {},
   "source": [
    "#### Modesto Test"
   ]
  },
  {
   "cell_type": "code",
   "execution_count": 42,
   "id": "073f7e28",
   "metadata": {},
   "outputs": [],
   "source": [
    "modesto_answers = []\n",
    "for i in range(1,71):\n",
    "    if i not in no_test:\n",
    "        section = find_most_relevant_pages(modesto_pages, modesto_embeddings, prompts[i-1])\n",
    "        section_and_question = section + prompts[i-1]\n",
    "        modesto_answers.append(gde_answer(section_and_question))"
   ]
  },
  {
   "cell_type": "code",
   "execution_count": 43,
   "id": "ca4ff178",
   "metadata": {},
   "outputs": [],
   "source": [
    "rubric = HumanRubric('GSP_Drafts/Rubrics/46_Modesto_DraftGSP_ScoringRubric - Coding.csv')"
   ]
  },
  {
   "cell_type": "code",
   "execution_count": 44,
   "id": "0ce9d4cd",
   "metadata": {},
   "outputs": [],
   "source": [
    "modesto_chat_answers = rubric['Answer']\n",
    "modesto_chat_answers = modesto_chat_answers.drop(no_test, errors='ignore')\n",
    "modesto_chat_answers = ['No' if item == 'Somewhat' else item for item in modesto_chat_answers]\n",
    "modesto_chat_answers = ['NotApplicable' if item == 'Not Applicable' else item for item in modesto_chat_answers]"
   ]
  },
  {
   "cell_type": "code",
   "execution_count": 45,
   "id": "674f83ee",
   "metadata": {},
   "outputs": [
    {
     "name": "stdout",
     "output_type": "stream",
     "text": [
      "Differences at indices: [0, 1, 3, 4, 6, 7, 8, 9, 10, 13, 15, 17, 18, 19, 21, 22, 24, 26, 28, 34, 40, 41, 42, 43, 47, 48, 52]\n"
     ]
    }
   ],
   "source": [
    "differences = compare_lists(modesto_answers, modesto_chat_answers)\n",
    "if differences:\n",
    "    print(\"Differences at indices:\", differences)\n",
    "else:\n",
    "    print(\"No differences. Lists are identical.\")"
   ]
  },
  {
   "cell_type": "markdown",
   "id": "16f9846c",
   "metadata": {},
   "source": [
    "#### SLO Test"
   ]
  },
  {
   "cell_type": "code",
   "execution_count": 48,
   "id": "76ea12be",
   "metadata": {},
   "outputs": [],
   "source": [
    "slo_answers = []\n",
    "for i in range(1,71):\n",
    "    if i not in no_test:\n",
    "        section = find_most_relevant_pages(slo_pages, slo_embeddings, prompts[i-1])\n",
    "        section_and_question = section + prompts[i-1]\n",
    "        slo_answers.append(gde_answer(section_and_question))"
   ]
  },
  {
   "cell_type": "code",
   "execution_count": 196,
   "id": "8c385b39",
   "metadata": {},
   "outputs": [],
   "source": [
    "rubric = HumanRubric('GSP_Drafts/Rubrics/50_SanLuisObispoValley_DraftGSP_ScoringRubric - Coding.csv')\n",
    "slo_chat_answers = rubric['Answer']\n",
    "slo_chat_answers = slo_chat_answers.drop(no_test, errors='ignore')\n",
    "slo_chat_answers = ['No' if item == 'Somewhat' else item for item in slo_chat_answers]\n",
    "slo_chat_answers = ['NotApplicable' if item == 'Not Applicable' else item for item in slo_chat_answers]"
   ]
  },
  {
   "cell_type": "code",
   "execution_count": 50,
   "id": "33738be4",
   "metadata": {},
   "outputs": [
    {
     "name": "stdout",
     "output_type": "stream",
     "text": [
      "Differences at indices: [0, 1, 3, 9, 13, 14, 21, 24, 25, 26, 38, 40, 46, 47, 48, 52]\n"
     ]
    }
   ],
   "source": [
    "differences = compare_lists(slo_answers, slo_chat_answers)\n",
    "if differences:\n",
    "    print(\"Differences at indices:\", differences)\n",
    "else:\n",
    "    print(\"No differences. Lists are identical.\")"
   ]
  },
  {
   "cell_type": "markdown",
   "id": "479cf5d7",
   "metadata": {},
   "source": [
    "#### Big Valley Test"
   ]
  },
  {
   "cell_type": "code",
   "execution_count": 52,
   "id": "b338e7d4",
   "metadata": {},
   "outputs": [],
   "source": [
    "bv_chat_answers = []"
   ]
  },
  {
   "cell_type": "code",
   "execution_count": 53,
   "id": "35c3e740",
   "metadata": {},
   "outputs": [],
   "source": [
    "for i in range(1,71):\n",
    "    if i not in no_test:\n",
    "        section = find_most_relevant_pages(bv_pages, bv_embeddings, prompts[i-1])\n",
    "        section_and_question = section + prompts[i-1]\n",
    "        bv_chat_answers.append(gde_answer(section_and_question))"
   ]
  },
  {
   "cell_type": "code",
   "execution_count": 184,
   "id": "d153c40e",
   "metadata": {},
   "outputs": [],
   "source": [
    "rubric = HumanRubric('GSP_Drafts/Rubrics/1_BigValley_DraftGSP_ScoringRubric - Coding.csv')\n",
    "bv_answers = rubric['Answer']\n",
    "no_test = [2, 8, 9, 10, 11, 12, 13, 15, 16, 19, 20, 21, 23, 26, 27, 35, 38, 39, 69]\n",
    "bv_answers = bv_answers.drop(no_test, errors='ignore')\n",
    "bv_answers = ['No' if item == 'Somewhat' else item for item in bv_answers]\n",
    "bv_answers = ['NotApplicable' if item == 'Not Applicable' else item for item in bv_answers]"
   ]
  },
  {
   "cell_type": "code",
   "execution_count": 57,
   "id": "762868be",
   "metadata": {},
   "outputs": [
    {
     "name": "stdout",
     "output_type": "stream",
     "text": [
      "Differences at indices: [1, 14, 21, 25, 38, 40, 42, 45, 47, 52]\n"
     ]
    }
   ],
   "source": [
    "differences = compare_lists(bv_answers, bv_chat_answers)\n",
    "if differences:\n",
    "    print(\"Differences at indices:\", differences)\n",
    "else:\n",
    "    print(\"No differences. Lists are identical.\")"
   ]
  },
  {
   "cell_type": "markdown",
   "id": "b4378cdb",
   "metadata": {},
   "source": [
    "#### Sonoma Valley Test"
   ]
  },
  {
   "cell_type": "code",
   "execution_count": 58,
   "id": "49451f65",
   "metadata": {},
   "outputs": [],
   "source": [
    "sonoma_chat_answers = []"
   ]
  },
  {
   "cell_type": "code",
   "execution_count": 59,
   "id": "5c2341d7",
   "metadata": {},
   "outputs": [],
   "source": [
    "for i in range(1,71):\n",
    "    if i not in no_test:\n",
    "        section = find_most_relevant_pages(sonoma_pages, sonoma_embeddings, prompts[i-1])\n",
    "        section_and_question = section + prompts[i-1]\n",
    "        sonoma_chat_answers.append(gde_answer(section_and_question))"
   ]
  },
  {
   "cell_type": "code",
   "execution_count": 191,
   "id": "32eb9170",
   "metadata": {},
   "outputs": [],
   "source": [
    "rubric = HumanRubric('GSP_Drafts/Rubrics/30_SonomaValley_DraftGSP_ScoringRubric - Coding.csv')\n",
    "sonoma_answers = rubric['Answer']\n",
    "sonoma_answers = sonoma_answers.drop(no_test, errors='ignore')\n",
    "sonoma_answers = ['No' if item == 'Somewhat' else item for item in sonoma_answers]\n",
    "sonoma_answers = ['NotApplicable' if item == 'Not Applicable' else item for item in sonoma_answers]"
   ]
  },
  {
   "cell_type": "code",
   "execution_count": 62,
   "id": "7c65685d",
   "metadata": {},
   "outputs": [
    {
     "name": "stdout",
     "output_type": "stream",
     "text": [
      "Differences at indices: [0, 1, 2, 4, 5, 10, 11, 12, 14, 19, 24, 25, 28, 32, 35, 45, 49, 51, 52]\n"
     ]
    }
   ],
   "source": [
    "differences = compare_lists(sonoma_answers, sonoma_chat_answers)\n",
    "if differences:\n",
    "    print(\"Differences at indices:\", differences)\n",
    "else:\n",
    "    print(\"No differences. Lists are identical.\")"
   ]
  },
  {
   "cell_type": "markdown",
   "id": "a8790903",
   "metadata": {},
   "source": [
    "#### ECC Test"
   ]
  },
  {
   "cell_type": "code",
   "execution_count": 63,
   "id": "c675d08e",
   "metadata": {},
   "outputs": [],
   "source": [
    "ecc_chat_answers = []"
   ]
  },
  {
   "cell_type": "code",
   "execution_count": 64,
   "id": "219373f7",
   "metadata": {},
   "outputs": [],
   "source": [
    "for i in range(1,71):\n",
    "    if i not in no_test:\n",
    "        section = find_most_relevant_pages(ecc_pages, ecc_embeddings, prompts[i-1])\n",
    "        section_and_question = section + prompts[i-1]\n",
    "        ecc_chat_answers.append(gde_answer(section_and_question))"
   ]
  },
  {
   "cell_type": "code",
   "execution_count": 197,
   "id": "6fc5c429",
   "metadata": {},
   "outputs": [],
   "source": [
    "rubric = HumanRubric('GSP_Drafts/Rubrics/14_EastContraCosta_DraftGSP_ScoringRubric - Coding.csv')\n",
    "ecc_answers = rubric['Answer']\n",
    "ecc_answers = ecc_answers.drop(no_test, errors='ignore')\n",
    "ecc_answers = ['No' if item == 'Somewhat' else item for item in ecc_answers]\n",
    "ecc_answers = ['NotApplicable' if item == 'Not Applicable' else item for item in ecc_answers]"
   ]
  },
  {
   "cell_type": "code",
   "execution_count": 68,
   "id": "f4f73056",
   "metadata": {},
   "outputs": [
    {
     "name": "stdout",
     "output_type": "stream",
     "text": [
      "Differences at indices: [1, 4, 7, 10, 11, 12, 16, 19, 26, 28, 32, 39, 42, 45, 46, 48, 49, 52]\n"
     ]
    }
   ],
   "source": [
    "differences = compare_lists(ecc_answers, ecc_chat_answers)\n",
    "if differences:\n",
    "    print(\"Differences at indices:\", differences)\n",
    "else:\n",
    "    print(\"No differences. Lists are identical.\")"
   ]
  },
  {
   "cell_type": "markdown",
   "id": "53f8153c",
   "metadata": {},
   "source": [
    "### .5 Learning Rate"
   ]
  },
  {
   "cell_type": "code",
   "execution_count": 120,
   "id": "397da87c",
   "metadata": {},
   "outputs": [],
   "source": [
    "def gde_answer(section_and_question: str) -> dict:\n",
    "    client = OpenAI(api_key=key)\n",
    "\n",
    "    response = client.chat.completions.create(\n",
    "    model=\"ft:gpt-3.5-turbo-0125:personal:balanced-lr-half:9Lw1LNkY\",\n",
    "    messages=[\n",
    "        {\n",
    "            \"role\": \"system\",\n",
    "            \"content\": \"You are a skeptical environmental scientist, tasked with answering questions\\\n",
    "            about a section from a Groundwater Sustainability Plan (GSP) document. You are only allowed to give one\\\n",
    "            word answers. Answer the questions objectively, adhering to the provided spectrums.\"\n",
    "        },\n",
    "        {\n",
    "            \"role\": \"user\",\n",
    "            \"content\": section_and_question\n",
    "        }\n",
    "        ],\n",
    "        temperature=0.7,\n",
    "    )\n",
    "    extracted = response.choices[0].message.content\n",
    "    return extracted\n",
    "\n",
    "#weave.init('intro-example') # 🐝"
   ]
  },
  {
   "cell_type": "code",
   "execution_count": 121,
   "id": "7293f265",
   "metadata": {},
   "outputs": [],
   "source": [
    "bv_chat_answers_2_b = []"
   ]
  },
  {
   "cell_type": "code",
   "execution_count": 122,
   "id": "3e9bbae7",
   "metadata": {},
   "outputs": [],
   "source": [
    "for i in range(1,71):\n",
    "    if i not in no_test:\n",
    "        section = find_most_relevant_pages(bv_pages, bv_embeddings, prompts[i-1])\n",
    "        section_and_question = section + prompts[i-1]\n",
    "        bv_chat_answers_2_b.append(gde_answer(section_and_question))"
   ]
  },
  {
   "cell_type": "code",
   "execution_count": 73,
   "id": "88a806aa",
   "metadata": {},
   "outputs": [
    {
     "name": "stdout",
     "output_type": "stream",
     "text": [
      "Differences at indices: [1, 14, 25, 38, 40, 42, 45, 47, 52]\n"
     ]
    }
   ],
   "source": [
    "differences = compare_lists(bv_chat_answers, bv_chat_answers_2)\n",
    "if differences:\n",
    "    print(\"Differences at indices:\", differences)\n",
    "else:\n",
    "    print(\"No differences. Lists are identical.\")"
   ]
  },
  {
   "cell_type": "code",
   "execution_count": 123,
   "id": "b99efdb6",
   "metadata": {},
   "outputs": [
    {
     "name": "stdout",
     "output_type": "stream",
     "text": [
      "Differences at indices: [1, 14, 25, 38, 40, 45, 47, 52]\n"
     ]
    }
   ],
   "source": [
    "differences = compare_lists(bv_chat_answers, bv_chat_answers_2_b)\n",
    "if differences:\n",
    "    print(\"Differences at indices:\", differences)\n",
    "else:\n",
    "    print(\"No differences. Lists are identical.\")"
   ]
  },
  {
   "cell_type": "code",
   "execution_count": 124,
   "id": "883f59c7",
   "metadata": {},
   "outputs": [],
   "source": [
    "sonoma_chat_answers_2_b = []"
   ]
  },
  {
   "cell_type": "code",
   "execution_count": 125,
   "id": "07735de0",
   "metadata": {},
   "outputs": [],
   "source": [
    "for i in range(1,71):\n",
    "    if i not in no_test:\n",
    "        section = find_most_relevant_pages(sonoma_pages, sonoma_embeddings, prompts[i-1])\n",
    "        section_and_question = section + prompts[i-1]\n",
    "        sonoma_chat_answers_2_b.append(gde_answer(section_and_question))"
   ]
  },
  {
   "cell_type": "code",
   "execution_count": 76,
   "id": "0bf9a8d5",
   "metadata": {},
   "outputs": [
    {
     "name": "stdout",
     "output_type": "stream",
     "text": [
      "Differences at indices: [1, 2, 4, 5, 10, 12, 14, 19, 24, 25, 28, 32, 35, 40, 44, 45, 48, 49, 51]\n"
     ]
    }
   ],
   "source": [
    "differences = compare_lists(sonoma_answers, sonoma_chat_answers_2)\n",
    "if differences:\n",
    "    print(\"Differences at indices:\", differences)\n",
    "else:\n",
    "    print(\"No differences. Lists are identical.\")"
   ]
  },
  {
   "cell_type": "code",
   "execution_count": 126,
   "id": "287768ca",
   "metadata": {},
   "outputs": [
    {
     "name": "stdout",
     "output_type": "stream",
     "text": [
      "Differences at indices: [1, 2, 4, 5, 10, 12, 14, 19, 24, 25, 28, 32, 35, 40, 44, 45, 48, 49, 51, 52]\n"
     ]
    }
   ],
   "source": [
    "differences = compare_lists(sonoma_answers, sonoma_chat_answers_2_b)\n",
    "if differences:\n",
    "    print(\"Differences at indices:\", differences)\n",
    "else:\n",
    "    print(\"No differences. Lists are identical.\")"
   ]
  },
  {
   "cell_type": "code",
   "execution_count": 127,
   "id": "59bfe28d",
   "metadata": {},
   "outputs": [],
   "source": [
    "ecc_chat_answers_2_b = []"
   ]
  },
  {
   "cell_type": "code",
   "execution_count": 128,
   "id": "1e0c875f",
   "metadata": {},
   "outputs": [],
   "source": [
    "for i in range(1,71):\n",
    "    if i not in no_test:\n",
    "        section = find_most_relevant_pages(ecc_pages, ecc_embeddings, prompts[i-1])\n",
    "        section_and_question = section + prompts[i-1]\n",
    "        ecc_chat_answers_2_b.append(gde_answer(section_and_question))"
   ]
  },
  {
   "cell_type": "code",
   "execution_count": 79,
   "id": "65c6c00e",
   "metadata": {},
   "outputs": [
    {
     "name": "stdout",
     "output_type": "stream",
     "text": [
      "Differences at indices: [1, 4, 6, 7, 10, 11, 12, 16, 19, 26, 28, 32, 36, 38, 45, 46, 48, 49]\n"
     ]
    }
   ],
   "source": [
    "differences = compare_lists(ecc_answers, ecc_chat_answers_2)\n",
    "if differences:\n",
    "    print(\"Differences at indices:\", differences)\n",
    "else:\n",
    "    print(\"No differences. Lists are identical.\")"
   ]
  },
  {
   "cell_type": "code",
   "execution_count": 129,
   "id": "53587cd7",
   "metadata": {},
   "outputs": [
    {
     "name": "stdout",
     "output_type": "stream",
     "text": [
      "Differences at indices: [1, 4, 7, 10, 11, 12, 16, 19, 20, 26, 28, 32, 36, 38, 45, 46, 48, 49]\n"
     ]
    }
   ],
   "source": [
    "differences = compare_lists(ecc_answers, ecc_chat_answers_2_b)\n",
    "if differences:\n",
    "    print(\"Differences at indices:\", differences)\n",
    "else:\n",
    "    print(\"No differences. Lists are identical.\")"
   ]
  },
  {
   "cell_type": "code",
   "execution_count": 130,
   "id": "e43881b2",
   "metadata": {},
   "outputs": [],
   "source": [
    "fillmore_chat_answers_2_b = []"
   ]
  },
  {
   "cell_type": "code",
   "execution_count": 131,
   "id": "57b67463",
   "metadata": {},
   "outputs": [],
   "source": [
    "for i in range(1,71):\n",
    "    if i not in no_test:\n",
    "        section = find_most_relevant_pages(fillmore_pages, fillmore_embeddings, prompts[i-1])\n",
    "        section_and_question = section + prompts[i-1]\n",
    "        fillmore_chat_answers_2_b.append(gde_answer(section_and_question))"
   ]
  },
  {
   "cell_type": "code",
   "execution_count": 102,
   "id": "574608b8",
   "metadata": {},
   "outputs": [
    {
     "name": "stdout",
     "output_type": "stream",
     "text": [
      "Differences at indices: [1, 3, 4, 9, 10, 12, 13, 14, 23, 25, 36, 38, 39, 40, 44, 46, 50]\n"
     ]
    }
   ],
   "source": [
    "differences = compare_lists(fillmore_chat_answers, fillmore_chat_answers_2)\n",
    "if differences:\n",
    "    print(\"Differences at indices:\", differences)\n",
    "else:\n",
    "    print(\"No differences. Lists are identical.\")"
   ]
  },
  {
   "cell_type": "code",
   "execution_count": 132,
   "id": "197ad306",
   "metadata": {},
   "outputs": [
    {
     "name": "stdout",
     "output_type": "stream",
     "text": [
      "Differences at indices: [1, 3, 4, 9, 10, 11, 12, 13, 14, 23, 25, 36, 38, 39, 44, 46, 50]\n"
     ]
    }
   ],
   "source": [
    "differences = compare_lists(fillmore_chat_answers, fillmore_chat_answers_2_b)\n",
    "if differences:\n",
    "    print(\"Differences at indices:\", differences)\n",
    "else:\n",
    "    print(\"No differences. Lists are identical.\")"
   ]
  },
  {
   "cell_type": "code",
   "execution_count": 133,
   "id": "edaba682",
   "metadata": {},
   "outputs": [],
   "source": [
    "slo_chat_answers_2_b = []"
   ]
  },
  {
   "cell_type": "code",
   "execution_count": 134,
   "id": "6a576a58",
   "metadata": {},
   "outputs": [],
   "source": [
    "for i in range(1,71):\n",
    "    if i not in no_test:\n",
    "        section = find_most_relevant_pages(slo_pages, slo_embeddings, prompts[i-1])\n",
    "        section_and_question = section + prompts[i-1]\n",
    "        slo_chat_answers_2_b.append(gde_answer(section_and_question))"
   ]
  },
  {
   "cell_type": "code",
   "execution_count": 106,
   "id": "2de27043",
   "metadata": {},
   "outputs": [
    {
     "name": "stdout",
     "output_type": "stream",
     "text": [
      "Differences at indices: [0, 1, 3, 9, 13, 14, 24, 25, 26, 36, 38, 40, 44, 46, 47]\n"
     ]
    }
   ],
   "source": [
    "differences = compare_lists(slo_chat_answers, slo_chat_answers_2)\n",
    "if differences:\n",
    "    print(\"Differences at indices:\", differences)\n",
    "else:\n",
    "    print(\"No differences. Lists are identical.\")"
   ]
  },
  {
   "cell_type": "code",
   "execution_count": 135,
   "id": "e60c4681",
   "metadata": {},
   "outputs": [
    {
     "name": "stdout",
     "output_type": "stream",
     "text": [
      "Differences at indices: [0, 1, 3, 9, 13, 14, 24, 25, 26, 36, 38, 40, 44, 46, 47]\n"
     ]
    }
   ],
   "source": [
    "differences = compare_lists(slo_chat_answers, slo_chat_answers_2_b)\n",
    "if differences:\n",
    "    print(\"Differences at indices:\", differences)\n",
    "else:\n",
    "    print(\"No differences. Lists are identical.\")"
   ]
  },
  {
   "cell_type": "markdown",
   "id": "3e3b527d",
   "metadata": {},
   "source": [
    "# Regular GPT-4 for comparison"
   ]
  },
  {
   "cell_type": "code",
   "execution_count": 108,
   "id": "39eeb28e",
   "metadata": {},
   "outputs": [],
   "source": [
    "def gde_answer(section_and_question: str) -> dict:\n",
    "    client = OpenAI(api_key=key)\n",
    "\n",
    "    response = client.chat.completions.create(\n",
    "    model=\"gpt-4o\",\n",
    "    messages=[\n",
    "        {\n",
    "            \"role\": \"system\",\n",
    "            \"content\": \"You are a skeptical environmental scientist, tasked with answering questions\\\n",
    "            about a section from a Groundwater Sustainability Plan (GSP) document. You are only allowed to give one\\\n",
    "            word answers. Answer the questions objectively, adhering to the provided spectrums.\"\n",
    "        },\n",
    "        {\n",
    "            \"role\": \"user\",\n",
    "            \"content\": section_and_question\n",
    "        }\n",
    "        ],\n",
    "        temperature=0.7,\n",
    "        #response_format={ \"type\": \"json_object\" }\n",
    "    )\n",
    "    extracted = response.choices[0].message.content\n",
    "    #return json.loads(extracted)\n",
    "    return extracted\n",
    "\n",
    "#weave.init('intro-example') # 🐝"
   ]
  },
  {
   "cell_type": "code",
   "execution_count": 83,
   "id": "4b11ad71",
   "metadata": {},
   "outputs": [],
   "source": [
    "bv_chat_answers_3 = []"
   ]
  },
  {
   "cell_type": "code",
   "execution_count": 84,
   "id": "80dda0c6",
   "metadata": {},
   "outputs": [],
   "source": [
    "for i in range(1,71):\n",
    "    if i not in no_test:\n",
    "        section = find_most_relevant_pages(bv_pages, bv_embeddings, prompts[i-1])\n",
    "        section_and_question = section + prompts[i-1]\n",
    "        bv_chat_answers_3.append(gde_answer(section_and_question))"
   ]
  },
  {
   "cell_type": "code",
   "execution_count": 85,
   "id": "678ee83f",
   "metadata": {},
   "outputs": [
    {
     "name": "stdout",
     "output_type": "stream",
     "text": [
      "Differences at indices: [0, 2, 4, 5, 6, 9, 10, 11, 12, 14, 16, 19, 22, 26, 30, 33, 34, 35, 36, 41, 42, 43, 46, 47, 48, 50, 51]\n"
     ]
    }
   ],
   "source": [
    "differences = compare_lists(bv_chat_answers, bv_chat_answers_3)\n",
    "if differences:\n",
    "    print(\"Differences at indices:\", differences)\n",
    "else:\n",
    "    print(\"No differences. Lists are identical.\")"
   ]
  },
  {
   "cell_type": "code",
   "execution_count": 86,
   "id": "2427f1f4",
   "metadata": {},
   "outputs": [],
   "source": [
    "sonoma_chat_answers_3 = []"
   ]
  },
  {
   "cell_type": "code",
   "execution_count": 87,
   "id": "d4ec5365",
   "metadata": {},
   "outputs": [],
   "source": [
    "for i in range(1,71):\n",
    "    if i not in no_test:\n",
    "        section = find_most_relevant_pages(sonoma_pages, sonoma_embeddings, prompts[i-1])\n",
    "        section_and_question = section + prompts[i-1]\n",
    "        sonoma_chat_answers_3.append(gde_answer(section_and_question))"
   ]
  },
  {
   "cell_type": "code",
   "execution_count": 88,
   "id": "2b4bf7cc",
   "metadata": {},
   "outputs": [
    {
     "name": "stdout",
     "output_type": "stream",
     "text": [
      "Differences at indices: [0, 1, 3, 4, 6, 9, 10, 11, 14, 15, 19, 21, 22, 23, 24, 25, 26, 28, 30, 32, 33, 35, 43, 44, 45, 46, 48]\n"
     ]
    }
   ],
   "source": [
    "differences = compare_lists(sonoma_answers, sonoma_chat_answers_3)\n",
    "if differences:\n",
    "    print(\"Differences at indices:\", differences)\n",
    "else:\n",
    "    print(\"No differences. Lists are identical.\")"
   ]
  },
  {
   "cell_type": "code",
   "execution_count": 89,
   "id": "c979c245",
   "metadata": {},
   "outputs": [],
   "source": [
    "ecc_chat_answers_3 = []"
   ]
  },
  {
   "cell_type": "code",
   "execution_count": 90,
   "id": "58bab2ab",
   "metadata": {},
   "outputs": [],
   "source": [
    "for i in range(1,71):\n",
    "    if i not in no_test:\n",
    "        section = find_most_relevant_pages(ecc_pages, ecc_embeddings, prompts[i-1])\n",
    "        section_and_question = section + prompts[i-1]\n",
    "        ecc_chat_answers_3.append(gde_answer(section_and_question))"
   ]
  },
  {
   "cell_type": "code",
   "execution_count": 91,
   "id": "ebbc7f2a",
   "metadata": {},
   "outputs": [
    {
     "name": "stdout",
     "output_type": "stream",
     "text": [
      "Differences at indices: [0, 1, 2, 3, 4, 5, 6, 8, 9, 10, 11, 12, 16, 18, 19, 22, 23, 25, 28, 30, 32, 33, 36, 39, 40, 41, 43, 45, 46, 48, 50, 52]\n"
     ]
    }
   ],
   "source": [
    "differences = compare_lists(ecc_answers, ecc_chat_answers_3)\n",
    "if differences:\n",
    "    print(\"Differences at indices:\", differences)\n",
    "else:\n",
    "    print(\"No differences. Lists are identical.\")"
   ]
  },
  {
   "cell_type": "code",
   "execution_count": 111,
   "id": "4195de39",
   "metadata": {},
   "outputs": [],
   "source": [
    "fillmore_chat_answers_3 = []"
   ]
  },
  {
   "cell_type": "code",
   "execution_count": 112,
   "id": "df903900",
   "metadata": {},
   "outputs": [],
   "source": [
    "for i in range(1,71):\n",
    "    if i not in no_test:\n",
    "        section = find_most_relevant_pages(slo_pages, slo_embeddings, prompts[i-1])\n",
    "        section_and_question = section + prompts[i-1]\n",
    "        fillmore_chat_answers_3.append(gde_answer(section_and_question))"
   ]
  },
  {
   "cell_type": "code",
   "execution_count": 113,
   "id": "c616689c",
   "metadata": {},
   "outputs": [
    {
     "name": "stdout",
     "output_type": "stream",
     "text": [
      "Differences at indices: [1, 2, 4, 5, 10, 11, 12, 14, 16, 17, 20, 21, 22, 24, 25, 26, 30, 33, 37, 38, 40, 43, 45, 46, 47, 48, 49, 50, 51]\n"
     ]
    }
   ],
   "source": [
    "differences = compare_lists(fillmore_chat_answers, fillmore_chat_answers_3)\n",
    "if differences:\n",
    "    print(\"Differences at indices:\", differences)\n",
    "else:\n",
    "    print(\"No differences. Lists are identical.\")"
   ]
  },
  {
   "cell_type": "code",
   "execution_count": 107,
   "id": "4c89f023",
   "metadata": {},
   "outputs": [],
   "source": [
    "slo_chat_answers_3 = []"
   ]
  },
  {
   "cell_type": "code",
   "execution_count": 109,
   "id": "2fadc096",
   "metadata": {},
   "outputs": [],
   "source": [
    "for i in range(1,71):\n",
    "    if i not in no_test:\n",
    "        section = find_most_relevant_pages(slo_pages, slo_embeddings, prompts[i-1])\n",
    "        section_and_question = section + prompts[i-1]\n",
    "        slo_chat_answers_3.append(gde_answer(section_and_question))"
   ]
  },
  {
   "cell_type": "code",
   "execution_count": 115,
   "id": "5ffc4251",
   "metadata": {},
   "outputs": [
    {
     "name": "stdout",
     "output_type": "stream",
     "text": [
      "Differences at indices: [0, 2, 3, 4, 5, 8, 11, 12, 13, 14, 15, 16, 17, 21, 22, 23, 24, 25, 30, 33, 36, 37, 39, 40, 43, 46, 47, 48, 49, 50, 51]\n"
     ]
    }
   ],
   "source": [
    "differences = compare_lists(slo_chat_answers, slo_chat_answers_3)\n",
    "if differences:\n",
    "    print(\"Differences at indices:\", differences)\n",
    "else:\n",
    "    print(\"No differences. Lists are identical.\")"
   ]
  },
  {
   "cell_type": "markdown",
   "id": "1a71f626",
   "metadata": {},
   "source": [
    "# More Epochs"
   ]
  },
  {
   "cell_type": "code",
   "execution_count": 146,
   "id": "aaf8f3d6",
   "metadata": {},
   "outputs": [],
   "source": [
    "def gde_answer(section_and_question: str) -> dict:\n",
    "    client = OpenAI(api_key=key)\n",
    "\n",
    "    response = client.chat.completions.create(\n",
    "    model=\"ft:gpt-3.5-turbo-0125:personal:lr-half-moreepochs:9MfPnpO0\",\n",
    "    messages=[\n",
    "        {\n",
    "            \"role\": \"system\",\n",
    "            \"content\": \"You are a skeptical environmental scientist, tasked with answering questions\\\n",
    "            about a section from a Groundwater Sustainability Plan (GSP) document. You are only allowed to give one\\\n",
    "            word answers. Answer the questions objectively, adhering to the provided spectrums.\"\n",
    "        },\n",
    "        {\n",
    "            \"role\": \"user\",\n",
    "            \"content\": section_and_question\n",
    "        }\n",
    "        ],\n",
    "        temperature=0.7,\n",
    "        #response_format={ \"type\": \"json_object\" }\n",
    "    )\n",
    "    extracted = response.choices[0].message.content\n",
    "    #return json.loads(extracted)\n",
    "    return extracted\n",
    "\n",
    "#weave.init('intro-example') # 🐝"
   ]
  },
  {
   "cell_type": "code",
   "execution_count": 147,
   "id": "da67e4b4",
   "metadata": {},
   "outputs": [],
   "source": [
    "no_test = [8, 9, 10, 11, 12, 13, 15, 16, 19, 20, 21, 23, 26, 27, 38, 39, 69]\n",
    "pdf = clean_pdf_text(extract_text_from_pdf('GSP_Drafts/1_BigValley.pdf'))\n",
    "sections, embeddings = get_embeddings(pdf, split_size=50)\n",
    "bv_chat_answers_3 = []"
   ]
  },
  {
   "cell_type": "code",
   "execution_count": 152,
   "id": "89a82fe9",
   "metadata": {},
   "outputs": [],
   "source": [
    "for i in range(1,71):\n",
    "    if i not in no_test:\n",
    "        section = find_most_relevant_section(sections, embeddings, prompts[i-1])\n",
    "        section_and_question = section + prompts[i-1]\n",
    "        bv_chat_answers_3.append(gde_answer(section_and_question))"
   ]
  },
  {
   "cell_type": "code",
   "execution_count": 153,
   "id": "05bea1f8",
   "metadata": {},
   "outputs": [
    {
     "name": "stdout",
     "output_type": "stream",
     "text": [
      "Differences at indices: [1, 14, 15, 17, 18, 35, 38, 39, 40, 45, 47, 52]\n"
     ]
    }
   ],
   "source": [
    "differences = compare_lists(bv_answers, bv_chat_answers_3)\n",
    "if differences:\n",
    "    print(\"Differences at indices:\", differences)\n",
    "else:\n",
    "    print(\"No differences. Lists are identical.\")"
   ]
  },
  {
   "cell_type": "code",
   "execution_count": 154,
   "id": "73b7d95f",
   "metadata": {},
   "outputs": [],
   "source": [
    "pdf = clean_pdf_text(extract_text_from_pdf('GSP_Drafts/30_Sonoma.pdf'))\n",
    "sections, embeddings = get_embeddings(pdf, split_size=50)\n",
    "sonoma_chat_answers_3 = []"
   ]
  },
  {
   "cell_type": "code",
   "execution_count": 155,
   "id": "3d7fd362",
   "metadata": {},
   "outputs": [],
   "source": [
    "for i in range(1,71):\n",
    "    if i not in no_test:\n",
    "        section = find_most_relevant_section(sections, embeddings, prompts[i-1])\n",
    "        section_and_question = section + prompts[i-1]\n",
    "        sonoma_chat_answers_3.append(gde_answer(section_and_question))"
   ]
  },
  {
   "cell_type": "code",
   "execution_count": 156,
   "id": "116a39ba",
   "metadata": {},
   "outputs": [
    {
     "name": "stdout",
     "output_type": "stream",
     "text": [
      "Differences at indices: [1, 2, 4, 5, 6, 10, 12, 13, 14, 19, 20, 24, 25, 28, 32, 35, 37, 38, 40, 44, 45, 48, 49, 50, 51, 52]\n"
     ]
    }
   ],
   "source": [
    "differences = compare_lists(sonoma_answers, sonoma_chat_answers_3)\n",
    "if differences:\n",
    "    print(\"Differences at indices:\", differences)\n",
    "else:\n",
    "    print(\"No differences. Lists are identical.\")"
   ]
  },
  {
   "cell_type": "code",
   "execution_count": 157,
   "id": "8b92eae6",
   "metadata": {},
   "outputs": [],
   "source": [
    "pdf = clean_pdf_text(extract_text_from_pdf('GSP_Drafts/14_ECC.pdf'))\n",
    "sections, embeddings = get_embeddings(pdf, split_size=40)\n",
    "ecc_chat_answers_3 = []"
   ]
  },
  {
   "cell_type": "code",
   "execution_count": 158,
   "id": "caf97f9d",
   "metadata": {},
   "outputs": [],
   "source": [
    "for i in range(1,71):\n",
    "    if i not in no_test:\n",
    "        section = find_most_relevant_section(sections, embeddings, prompts[i-1])\n",
    "        section_and_question = section + prompts[i-1]\n",
    "        ecc_chat_answers_3.append(gde_answer(section_and_question))"
   ]
  },
  {
   "cell_type": "code",
   "execution_count": 159,
   "id": "e45f22dd",
   "metadata": {},
   "outputs": [
    {
     "name": "stdout",
     "output_type": "stream",
     "text": [
      "Differences at indices: [1, 4, 7, 10, 11, 12, 15, 16, 17, 19, 20, 26, 28, 32, 36, 47, 48, 49, 52]\n"
     ]
    }
   ],
   "source": [
    "differences = compare_lists(ecc_answers, ecc_chat_answers_3)\n",
    "if differences:\n",
    "    print(\"Differences at indices:\", differences)\n",
    "else:\n",
    "    print(\"No differences. Lists are identical.\")"
   ]
  },
  {
   "cell_type": "markdown",
   "id": "63458795",
   "metadata": {},
   "source": [
    "# OG Slight Imbalance"
   ]
  },
  {
   "cell_type": "code",
   "execution_count": 160,
   "id": "0f1f580c",
   "metadata": {},
   "outputs": [],
   "source": [
    "def gde_answer(section_and_question: str) -> dict:\n",
    "    client = OpenAI(api_key=key)\n",
    "\n",
    "    response = client.chat.completions.create(\n",
    "    model=\"ft:gpt-3.5-turbo-0125:personal::9HbS53fX\",\n",
    "    messages=[\n",
    "        {\n",
    "            \"role\": \"system\",\n",
    "            \"content\": \"You are a skeptical environmental scientist, tasked with answering questions\\\n",
    "            about a section from a Groundwater Sustainability Plan (GSP) document. You are only allowed to give one\\\n",
    "            word answers. Answer the questions objectively, adhering to the provided spectrums.\"\n",
    "        },\n",
    "        {\n",
    "            \"role\": \"user\",\n",
    "            \"content\": section_and_question\n",
    "        }\n",
    "        ],\n",
    "        temperature=0.7,\n",
    "        #response_format={ \"type\": \"json_object\" }\n",
    "    )\n",
    "    extracted = response.choices[0].message.content\n",
    "    #return json.loads(extracted)\n",
    "    return extracted\n",
    "\n",
    "#weave.init('intro-example') # 🐝"
   ]
  },
  {
   "cell_type": "code",
   "execution_count": 161,
   "id": "83021584",
   "metadata": {},
   "outputs": [],
   "source": [
    "no_test = [8, 9, 10, 11, 12, 13, 15, 16, 19, 20, 21, 23, 26, 27, 38, 39, 69]\n",
    "pdf = clean_pdf_text(extract_text_from_pdf('GSP_Drafts/1_BigValley.pdf'))\n",
    "sections, embeddings = get_embeddings(pdf, split_size=50)\n",
    "bv_chat_answers_4 = []"
   ]
  },
  {
   "cell_type": "code",
   "execution_count": 162,
   "id": "3fc94b89",
   "metadata": {},
   "outputs": [],
   "source": [
    "for i in range(1,71):\n",
    "    if i not in no_test:\n",
    "        section = find_most_relevant_section(sections, embeddings, prompts[i-1])\n",
    "        section_and_question = section + prompts[i-1]\n",
    "        bv_chat_answers_4.append(gde_answer(section_and_question))"
   ]
  },
  {
   "cell_type": "code",
   "execution_count": 163,
   "id": "ab5e42e6",
   "metadata": {},
   "outputs": [
    {
     "name": "stdout",
     "output_type": "stream",
     "text": [
      "Differences at indices: [1, 6, 8, 14, 15, 17, 18, 20, 38, 39, 40, 47, 52]\n"
     ]
    }
   ],
   "source": [
    "differences = compare_lists(bv_answers, bv_chat_answers_4)\n",
    "if differences:\n",
    "    print(\"Differences at indices:\", differences)\n",
    "else:\n",
    "    print(\"No differences. Lists are identical.\")"
   ]
  },
  {
   "cell_type": "code",
   "execution_count": 164,
   "id": "26c7cef6",
   "metadata": {},
   "outputs": [],
   "source": [
    "pdf = clean_pdf_text(extract_text_from_pdf('GSP_Drafts/30_Sonoma.pdf'))\n",
    "sections, embeddings = get_embeddings(pdf, split_size=50)\n",
    "sonoma_chat_answers_4 = []"
   ]
  },
  {
   "cell_type": "code",
   "execution_count": 165,
   "id": "b7db5aaa",
   "metadata": {},
   "outputs": [],
   "source": [
    "for i in range(1,71):\n",
    "    if i not in no_test:\n",
    "        section = find_most_relevant_section(sections, embeddings, prompts[i-1])\n",
    "        section_and_question = section + prompts[i-1]\n",
    "        sonoma_chat_answers_4.append(gde_answer(section_and_question))"
   ]
  },
  {
   "cell_type": "code",
   "execution_count": 166,
   "id": "5803155c",
   "metadata": {},
   "outputs": [
    {
     "name": "stdout",
     "output_type": "stream",
     "text": [
      "Differences at indices: [1, 2, 4, 5, 6, 8, 10, 12, 13, 14, 19, 20, 24, 25, 28, 32, 35, 36, 37, 40, 45, 48, 49, 50, 51, 52]\n"
     ]
    }
   ],
   "source": [
    "differences = compare_lists(sonoma_answers, sonoma_chat_answers_4)\n",
    "if differences:\n",
    "    print(\"Differences at indices:\", differences)\n",
    "else:\n",
    "    print(\"No differences. Lists are identical.\")"
   ]
  },
  {
   "cell_type": "markdown",
   "id": "349459b3",
   "metadata": {},
   "source": [
    "# GPT-4 Human Rationale"
   ]
  },
  {
   "cell_type": "code",
   "execution_count": 122,
   "id": "5ee45f02",
   "metadata": {},
   "outputs": [],
   "source": [
    "def gde_answer(section_and_question: str) -> dict:\n",
    "    client = OpenAI(api_key=key)\n",
    "\n",
    "    response = client.chat.completions.create(\n",
    "    model=\"gpt-4-turbo-2024-04-09\",\n",
    "    messages=[\n",
    "        {\n",
    "            \"role\": \"system\",\n",
    "            \"content\": \"You are a skeptical environmental scientist, tasked with answering questions\\\n",
    "            about a section from a Groundwater Sustainability Plan (GSP) document. You are only allowed to give one\\\n",
    "            word answers. Answer the questions objectively, adhering to the provided spectrums.\"\n",
    "        },\n",
    "        {\n",
    "            \"role\": \"user\",\n",
    "            \"content\": section_and_question\n",
    "        }\n",
    "        ],\n",
    "        temperature=0.7,\n",
    "        #response_format={ \"type\": \"json_object\" }\n",
    "    )\n",
    "    extracted = response.choices[0].message.content\n",
    "    #return json.loads(extracted)\n",
    "    return extracted\n",
    "\n",
    "#weave.init('intro-example') # 🐝"
   ]
  },
  {
   "cell_type": "code",
   "execution_count": 138,
   "id": "55227905",
   "metadata": {},
   "outputs": [],
   "source": [
    "rubric = HumanRubric('GSP_Drafts/Rubrics/1_BigValley_DraftGSP_ScoringRubric - Coding.csv')"
   ]
  },
  {
   "cell_type": "code",
   "execution_count": 139,
   "id": "ae34213b",
   "metadata": {},
   "outputs": [],
   "source": [
    "rubric = rubric.dropna(subset=['Relevant Text from GSP'])"
   ]
  },
  {
   "cell_type": "code",
   "execution_count": 140,
   "id": "cc1edb92",
   "metadata": {},
   "outputs": [],
   "source": [
    "combined_list = []\n",
    "no_test = [8, 9, 10, 11, 12, 13, 15, 16, 19, 20, 21, 23, 26, 27, 38, 39, 69]\n",
    "\n",
    "# Convert no_test to a set for faster lookup\n",
    "no_test_set = set(no_test)\n",
    "\n",
    "# Iterate over the trimmed DataFrame\n",
    "for i, row in rubric.iterrows():\n",
    "    # Skip rows that are in the no_test set\n",
    "    if i in no_test_set:\n",
    "        continue\n",
    "\n",
    "    # Ensure there's a matching prompt in the list\n",
    "    if i < len(prompts):\n",
    "        combined_text = 'Section From GSP:' + ' ' + row['Relevant Text from GSP'] \\\n",
    "                        + ' ' + 'Question:' + ' ' + prompts[i-1]\n",
    "        combined_list.append(combined_text)\n",
    "    else:\n",
    "        break  # In case the DataFrame is longer than the list, this prevents out-of-index errors"
   ]
  },
  {
   "cell_type": "code",
   "execution_count": 141,
   "id": "62652411",
   "metadata": {},
   "outputs": [],
   "source": [
    "human_rationale_answers = []"
   ]
  },
  {
   "cell_type": "code",
   "execution_count": 142,
   "id": "462c9290",
   "metadata": {},
   "outputs": [],
   "source": [
    "human_answers = rubric['Answer']\n",
    "human_answers = human_answers.drop(no_test, errors='ignore')\n",
    "human_answers = ['No' if item == 'Somewhat' else item for item in human_answers]"
   ]
  },
  {
   "cell_type": "code",
   "execution_count": 143,
   "id": "703153be",
   "metadata": {},
   "outputs": [
    {
     "data": {
      "text/plain": [
       "32"
      ]
     },
     "execution_count": 143,
     "metadata": {},
     "output_type": "execute_result"
    }
   ],
   "source": [
    "len(combined_list)"
   ]
  },
  {
   "cell_type": "code",
   "execution_count": 144,
   "id": "11c63447",
   "metadata": {},
   "outputs": [],
   "source": [
    "for i in range(len(combined_list)):\n",
    "    human_rationale_answers.append(gde_answer(combined_list[i]))"
   ]
  },
  {
   "cell_type": "code",
   "execution_count": 145,
   "id": "df6caf82",
   "metadata": {},
   "outputs": [
    {
     "name": "stdout",
     "output_type": "stream",
     "text": [
      "Differences at indices: [0, 1, 4, 6, 7, 11, 21, 25, 26, 28, 29, 30, 31]\n"
     ]
    }
   ],
   "source": [
    "differences = compare_lists(human_rationale_answers, human_answers)\n",
    "if differences:\n",
    "    print(\"Differences at indices:\", differences)\n",
    "else:\n",
    "    print(\"No differences. Lists are identical.\")"
   ]
  },
  {
   "cell_type": "markdown",
   "id": "3991c64f",
   "metadata": {},
   "source": [
    "# Expanded Fine-Tuning Model"
   ]
  },
  {
   "cell_type": "code",
   "execution_count": 175,
   "id": "a5ccacda",
   "metadata": {},
   "outputs": [],
   "source": [
    "def gde_answer(section_and_question: str) -> dict:\n",
    "    client = OpenAI(api_key=key)\n",
    "\n",
    "    response = client.chat.completions.create(\n",
    "    model=\"ft:gpt-3.5-turbo-0125:personal::9XGPsPzW\",\n",
    "    messages=[\n",
    "        {\n",
    "            \"role\": \"system\",\n",
    "            \"content\": \"You are a skeptical environmental scientist, tasked with answering questions\\\n",
    "            about a section from a Groundwater Sustainability Plan (GSP) document. You are only allowed to give one\\\n",
    "            word answers. Answer the questions objectively, adhering to the provided spectrums.\"\n",
    "        },\n",
    "        {\n",
    "            \"role\": \"user\",\n",
    "            \"content\": section_and_question\n",
    "        }\n",
    "        ],\n",
    "        temperature=0.7,\n",
    "        #response_format={ \"type\": \"json_object\" }\n",
    "    )\n",
    "    extracted = response.choices[0].message.content\n",
    "    #return json.loads(extracted)\n",
    "    return extracted\n",
    "\n",
    "#weave.init('intro-example') # 🐝"
   ]
  },
  {
   "cell_type": "code",
   "execution_count": 176,
   "id": "6376fa7b",
   "metadata": {},
   "outputs": [],
   "source": [
    "bv_chat_expanded = []"
   ]
  },
  {
   "cell_type": "code",
   "execution_count": 177,
   "id": "7a6dc112",
   "metadata": {},
   "outputs": [],
   "source": [
    "for i in range(1,71):\n",
    "    if i not in no_test:\n",
    "        section = find_most_relevant_pages(bv_pages, bv_embeddings, prompts[i-1])\n",
    "        section_and_question = section + prompts[i-1]\n",
    "        bv_chat_expanded.append(gde_answer(section_and_question))"
   ]
  },
  {
   "cell_type": "code",
   "execution_count": 185,
   "id": "3e5948f2",
   "metadata": {},
   "outputs": [
    {
     "name": "stdout",
     "output_type": "stream",
     "text": [
      "Differences at indices: [3, 5, 7, 8, 10, 13, 15, 20, 23, 38, 39, 45, 48]\n"
     ]
    }
   ],
   "source": [
    "differences = compare_lists(bv_chat_expanded, bv_answers)\n",
    "if differences:\n",
    "    print(\"Differences at indices:\", differences)\n",
    "else:\n",
    "    print(\"No differences. Lists are identical.\")"
   ]
  },
  {
   "cell_type": "code",
   "execution_count": 186,
   "id": "4014aa77",
   "metadata": {},
   "outputs": [],
   "source": [
    "sonoma_chat_expanded = []"
   ]
  },
  {
   "cell_type": "code",
   "execution_count": 187,
   "id": "aa8da945",
   "metadata": {},
   "outputs": [],
   "source": [
    "for i in range(1,71):\n",
    "    if i not in no_test:\n",
    "        section = find_most_relevant_pages(sonoma_pages, sonoma_embeddings, prompts[i-1])\n",
    "        section_and_question = section + prompts[i-1]\n",
    "        sonoma_chat_expanded.append(gde_answer(section_and_question))"
   ]
  },
  {
   "cell_type": "code",
   "execution_count": 192,
   "id": "bd9156d8",
   "metadata": {},
   "outputs": [
    {
     "name": "stdout",
     "output_type": "stream",
     "text": [
      "Differences at indices: [0, 2, 3, 4, 5, 7, 8, 9, 11, 13, 15, 18, 19, 20, 22, 23, 26, 30, 33, 34, 38, 43, 46, 47, 49]\n"
     ]
    }
   ],
   "source": [
    "differences = compare_lists(sonoma_chat_expanded, sonoma_answers)\n",
    "if differences:\n",
    "    print(\"Differences at indices:\", differences)\n",
    "else:\n",
    "    print(\"No differences. Lists are identical.\")"
   ]
  },
  {
   "cell_type": "code",
   "execution_count": 193,
   "id": "7afec451",
   "metadata": {},
   "outputs": [],
   "source": [
    "slo_chat_expanded = []"
   ]
  },
  {
   "cell_type": "code",
   "execution_count": 194,
   "id": "204bb917",
   "metadata": {},
   "outputs": [],
   "source": [
    "for i in range(1,71):\n",
    "    if i not in no_test:\n",
    "        section = find_most_relevant_pages(slo_pages, slo_embeddings, prompts[i-1])\n",
    "        section_and_question = section + prompts[i-1]\n",
    "        slo_chat_expanded.append(gde_answer(section_and_question))"
   ]
  },
  {
   "cell_type": "code",
   "execution_count": 199,
   "id": "6a94376d",
   "metadata": {},
   "outputs": [
    {
     "name": "stdout",
     "output_type": "stream",
     "text": [
      "Differences at indices: [0, 2, 5, 7, 12, 13, 15, 20, 22, 23, 24, 34, 38, 41, 44, 45, 47]\n"
     ]
    }
   ],
   "source": [
    "differences = compare_lists(slo_chat_expanded, slo_chat_answers)\n",
    "if differences:\n",
    "    print(\"Differences at indices:\", differences)\n",
    "else:\n",
    "    print(\"No differences. Lists are identical.\")"
   ]
  },
  {
   "cell_type": "code",
   "execution_count": 200,
   "id": "65d21135",
   "metadata": {},
   "outputs": [],
   "source": [
    "ecc_chat_expanded = []"
   ]
  },
  {
   "cell_type": "code",
   "execution_count": 201,
   "id": "332aad37",
   "metadata": {},
   "outputs": [],
   "source": [
    "for i in range(1,71):\n",
    "    if i not in no_test:\n",
    "        section = find_most_relevant_pages(ecc_pages, ecc_embeddings, prompts[i-1])\n",
    "        section_and_question = section + prompts[i-1]\n",
    "        ecc_chat_expanded.append(gde_answer(section_and_question))"
   ]
  },
  {
   "cell_type": "code",
   "execution_count": 203,
   "id": "73ded5a5",
   "metadata": {},
   "outputs": [
    {
     "name": "stdout",
     "output_type": "stream",
     "text": [
      "Differences at indices: [1, 3, 5, 6, 7, 8, 9, 10, 11, 15, 18, 20, 24, 26, 30, 34, 36, 43, 44, 46, 48]\n"
     ]
    }
   ],
   "source": [
    "differences = compare_lists(ecc_chat_expanded, ecc_answers)\n",
    "if differences:\n",
    "    print(\"Differences at indices:\", differences)\n",
    "else:\n",
    "    print(\"No differences. Lists are identical.\")"
   ]
  },
  {
   "cell_type": "markdown",
   "id": "db44b24e",
   "metadata": {},
   "source": [
    "# Visualizations"
   ]
  },
  {
   "cell_type": "code",
   "execution_count": 118,
   "id": "83c60382",
   "metadata": {},
   "outputs": [
    {
     "data": {
      "image/png": "[encoded data removed]",
      "text/plain": [
       "<Figure size 1000x600 with 1 Axes>"
      ]
     },
     "metadata": {},
     "output_type": "display_data"
    }
   ],
   "source": [
    "import matplotlib.pyplot as plt\n",
    "\n",
    "# Data for the scatter plot\n",
    "x_labels = ['1_BigValley', '14_EECPlan', '15_Fillmore', '30_Sonoma', '50_SLO']\n",
    "model_gpt_4o = [0.491, 0.396, 0.453, 0.491, 0.396]\n",
    "ft_model_8epoch_LR_0_5 = [0.830, 0.660, 0.679, 0.642, 0.717]\n",
    "x = range(len(x_labels))\n",
    "\n",
    "# Create the scatter plot\n",
    "plt.figure(figsize=(10, 6))\n",
    "plt.scatter(x, model_gpt_4o, color='blue', label='model_gpt_4o')\n",
    "plt.scatter(x, ft_model_8epoch_LR_0_5, color='green', label='fine_tuned model_8epoch_LR_0.5')\n",
    "\n",
    "# Adding titles and labels\n",
    "plt.title('model_gpt_4o vs. fine_tuned model_8epoch_LR_0.5')\n",
    "plt.xlabel('Plan')\n",
    "plt.ylabel('Proportion Questions Correct (Non-Map)')\n",
    "plt.xticks(x, x_labels)\n",
    "plt.legend()\n",
    "\n",
    "# Show the plot\n",
    "plt.tight_layout()\n",
    "plt.show()"
   ]
  },
  {
   "cell_type": "code",
   "execution_count": 214,
   "id": "a43d1b73",
   "metadata": {},
   "outputs": [
    {
     "data": {
      "image/png": "[encoded data removed]",
      "text/plain": [
       "<Figure size 3600x2400 with 1 Axes>"
      ]
     },
     "metadata": {},
     "output_type": "display_data"
    }
   ],
   "source": [
    "import matplotlib.pyplot as plt\n",
    "import numpy as np\n",
    "\n",
    "# Data for the bar chart\n",
    "x_labels = ['Big Valley', 'East Contra Costa', 'Fillmore', 'Sonoma', 'San Luis Obispo']\n",
    "model_gpt_4o = [0.491, 0.396, 0.453, 0.491, 0.396]\n",
    "ft_model_8epoch_LR_0_5 = [0.830, 0.660, 0.679, 0.642, 0.717]\n",
    "x = np.arange(len(x_labels))  # the label locations\n",
    "\n",
    "width = 0.35  # the width of the bars\n",
    "\n",
    "fig, ax = plt.subplots(figsize=(12, 8), dpi=300)  # High-resolution figure\n",
    "bars1 = ax.bar(x - width/2, model_gpt_4o, width, label='GPT-4o Base Model', color='blue')\n",
    "bars2 = ax.bar(x + width/2, ft_model_8epoch_LR_0_5, width, label='GPT-3.5 Fine-Tuned Model', color='orange')\n",
    "\n",
    "# Adding titles and labels\n",
    "ax.set_title('Performance Comparison: GPT-4o Base Model vs GPT-3.5 Fine-Tuned Model', fontsize=16)\n",
    "ax.set_xlabel('Groundwater Sustainability Plan', fontsize=14)\n",
    "ax.set_ylabel('Proportion of Questions Correct (Non-Map)', fontsize=14)\n",
    "ax.set_xticks(x)\n",
    "ax.set_xticklabels(x_labels, fontsize=12)\n",
    "ax.legend(fontsize=12)\n",
    "\n",
    "# Add percentage labels to the bars\n",
    "for bar in bars1:\n",
    "    yval = bar.get_height()\n",
    "    ax.text(bar.get_x() + bar.get_width()/2, yval, f'{yval:.1%}', va='bottom', ha='center', fontsize=10, color='blue')\n",
    "\n",
    "for bar in bars2:\n",
    "    yval = bar.get_height()\n",
    "    ax.text(bar.get_x() + bar.get_width()/2, yval, f'{yval:.1%}', va='bottom', ha='center', fontsize=10, color='orange')\n",
    "\n",
    "# Show the plot\n",
    "plt.tight_layout()\n",
    "#plt.savefig('performance_comparison.png', bbox_inches='tight')\n",
    "plt.show()"
   ]
  },
  {
   "cell_type": "code",
   "execution_count": 137,
   "id": "f30db396",
   "metadata": {},
   "outputs": [
    {
     "data": {
      "image/png": "[encoded data removed]",
      "text/plain": [
       "<Figure size 1000x600 with 1 Axes>"
      ]
     },
     "metadata": {},
     "output_type": "display_data"
    }
   ],
   "source": [
    "labels = ['Consistent AI Answers', 'Different AI Answers']\n",
    "sizes = [97.7, 2.3]\n",
    "colors = ['#6A8E7F', '#D57356']\n",
    "    \n",
    "# Create the pie chart\n",
    "fig, ax = plt.subplots(figsize=(10, 6))\n",
    "wedges, texts, autotexts = ax.pie(sizes, colors=colors, autopct='%1.1f%%',\n",
    "                                     startangle=90, wedgeprops=dict(width=0.3, edgecolor='w'))\n",
    "    \n",
    "# Add a title\n",
    "ax.set_title('Fine-Tuning Model Response Comparison: May 15th vs. May 22nd')\n",
    "    \n",
    "# Add labels\n",
    "plt.legend(wedges, labels, loc='best')\n",
    "    \n",
    "# Equal aspect ratio ensures that pie is drawn as a circle\n",
    "ax.axis('equal')\n",
    "    \n",
    "# Display the plot\n",
    "plt.show()"
   ]
  },
  {
   "cell_type": "code",
   "execution_count": null,
   "id": "7830fdae",
   "metadata": {},
   "outputs": [],
   "source": []
  }
 ],
 "metadata": {
  "kernelspec": {
   "display_name": "Python 3 (ipykernel)",
   "language": "python",
   "name": "python3"
  },
  "language_info": {
   "codemirror_mode": {
    "name": "ipython",
    "version": 3
   },
   "file_extension": ".py",
   "mimetype": "text/x-python",
   "name": "python",
   "nbconvert_exporter": "python",
   "pygments_lexer": "ipython3",
   "version": "3.11.5"
  }
 },
 "nbformat": 4,
 "nbformat_minor": 5
}
